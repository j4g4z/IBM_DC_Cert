{
  "metadata": {
    "language_info": {
      "codemirror_mode": {
        "name": "python",
        "version": 3
      },
      "file_extension": ".py",
      "mimetype": "text/x-python",
      "name": "python",
      "nbconvert_exporter": "python",
      "pygments_lexer": "ipython3",
      "version": "3.8"
    },
    "kernelspec": {
      "name": "python",
      "display_name": "Python (Pyodide)",
      "language": "python"
    }
  },
  "nbformat_minor": 4,
  "nbformat": 4,
  "cells": [
    {
      "cell_type": "markdown",
      "source": "# Data Science Tools and Ecosystem",
      "metadata": {}
    },
    {
      "cell_type": "markdown",
      "source": "In this notebook, Data Science Tools and Ecosystem are summarized.",
      "metadata": {}
    },
    {
      "cell_type": "markdown",
      "source": "**Objectives**\n\n- List popular languages for Data Science.\n- Introduce arithmetic expressions and basic operations in Python.\n- Demonstrate how to convert minutes to hours in Python.\n- List popular libraries used by Data Scientists.\n- Introduce Jupyter Notebook as a popular development environment for Data Science.",
      "metadata": {}
    },
    {
      "cell_type": "markdown",
      "source": "Some of the popular languages that Data Scientists use are:\n\n1. Python: Python is one of the most popular programming languages in the data science community. It has a wide range of libraries and frameworks, such as NumPy, Pandas, Scikit-learn, and TensorFlow, that make it easy to perform data analysis, visualization, and machine learning.\n\n2. R: R is another popular programming language for data science. It has a large community of users and a wide range of libraries and packages for statistical analysis, data visualization, and machine learning.\n\n3. SQL: SQL (Structured Query Language) is used for managing relational databases and is essential for data retrieval and management.\n\n4. Java: Java is a general-purpose programming language that is widely used for developing enterprise-level applications. It is also used in data science for its scalability and performance.\n\n5. Scala: Scala is a programming language that combines object-oriented and functional programming paradigms. It is used for developing big data applications and is commonly used with Apache Spark.\n\n6. Julia: Julia is a relatively new programming language designed specifically for scientific computing, numerical analysis, and data science. It is gaining popularity due to its speed and ease of use.",
      "metadata": {}
    },
    {
      "cell_type": "markdown",
      "source": "Some of the commonly used libraries used by Data Scientists include:\n\n1. NumPy\n2. Pandas\n3. Matplotlib\n4. Scikit-learn\n5. TensorFlow",
      "metadata": {}
    },
    {
      "cell_type": "markdown",
      "source": "| Data Science Tools |\n| --- |\n| Jupyter Notebook |\n| Spyder |\n| RStudio |",
      "metadata": {}
    },
    {
      "cell_type": "markdown",
      "source": "# Addition\n2 + 3   # Output: 5\n\n# Subtraction\n7 - 4   # Output: 3\n\n# Multiplication\n6 * 5   # Output: 30\n\n# Division (floating point)\n10 / 3  # Output: 3.3333333333333335\n\n# Division (integer)\n10 // 3 # Output: 3\n\n# Modulo (remainder)\n10 % 3  # Output: 1\n",
      "metadata": {}
    },
    {
      "cell_type": "code",
      "source": "# This is a simple arithmetic expression to multiply then add integers\nresult = (3*4)+5\nprint(result)\n",
      "metadata": {
        "trusted": true
      },
      "execution_count": 1,
      "outputs": [
        {
          "name": "stdout",
          "text": "17\n",
          "output_type": "stream"
        }
      ]
    },
    {
      "cell_type": "code",
      "source": "# This will convert 200 minutes to hours by dividing by 60\nminutes = 200\nhours = minutes / 60\nprint(hours)\n",
      "metadata": {
        "trusted": true
      },
      "execution_count": 2,
      "outputs": [
        {
          "name": "stdout",
          "text": "3.3333333333333335\n",
          "output_type": "stream"
        }
      ]
    },
    {
      "cell_type": "markdown",
      "source": "## Author\nJag Nijjar",
      "metadata": {}
    }
  ]
}